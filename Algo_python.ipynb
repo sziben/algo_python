{
  "nbformat": 4,
  "nbformat_minor": 0,
  "metadata": {
    "colab": {
      "provenance": [],
      "collapsed_sections": [
        "r6A1SDhj0fwx",
        "jvbR9lkE0V5R",
        "O6o1hQ6N00if"
      ],
      "authorship_tag": "ABX9TyMC0QCZAyCRIJOuldA/trtM",
      "include_colab_link": true
    },
    "kernelspec": {
      "name": "python3",
      "display_name": "Python 3"
    },
    "language_info": {
      "name": "python"
    }
  },
  "cells": [
    {
      "cell_type": "markdown",
      "metadata": {
        "id": "view-in-github",
        "colab_type": "text"
      },
      "source": [
        "<a href=\"https://colab.research.google.com/github/sziben/algo_python/blob/main/Algo_python.ipynb\" target=\"_parent\"><img src=\"https://colab.research.google.com/assets/colab-badge.svg\" alt=\"Open In Colab\"/></a>"
      ]
    },
    {
      "cell_type": "markdown",
      "source": [
        "**Hasznos weboldalak:**\n",
        "w3schools: https://www.w3schools.com/python/default.asp\n"
      ],
      "metadata": {
        "id": "utAW0fMSzYoE"
      }
    },
    {
      "cell_type": "markdown",
      "source": [
        "# Parancsok/függvények (Commands/Functions) https://www.w3schools.com/python/python_functions.asp#\n"
      ],
      "metadata": {
        "id": "r6A1SDhj0fwx"
      }
    },
    {
      "cell_type": "markdown",
      "source": [
        "**Print függvény (Print function)**"
      ],
      "metadata": {
        "id": "y2cAsHzKzk5D"
      }
    },
    {
      "cell_type": "markdown",
      "source": [
        "# Változók (Variables) https://www.w3schools.com/python/python_variables.asp"
      ],
      "metadata": {
        "id": "jvbR9lkE0V5R"
      }
    },
    {
      "cell_type": "markdown",
      "source": [
        "**Változók (Variables)**  https://www.w3schools.com/python/python_variables.asp\n",
        "\n",
        "A változók (variables) Pythonban olyan tárolók/dobozok (containers), amelyekben értékeket (value) lehet tárolni. Ez az érték lehet szám (integer, float, decimal…), karakterlánc (string) vagy akár összetettebb adat is, például lista (list) vagy szótár (dictionary). A változók lehetővé teszik, hogy tároljuk az értékeket és később újra felhasználjuk őket a programunkban.\n",
        "\n",
        "A változóknak mindig kell egy nevet adni, majd utána egy értéket lehet beléjük rakni az “=“ műveleti jellel (operátorral)\n",
        "\n",
        "Például tegyük fel, hogy szeretnéd eltárolni az 5 számot egy \"x\" nevű változóban. Így írnád meg:\n",
        "\n",
        "`x = 5`\n",
        "\n",
        "Ezt valami olyasmit jelent emberi nyelven, hogy “Az x nevű változóba belerakom az 5-ös értéket”\n",
        "\n",
        "Most már használhatod a \"x\" változót a 5 érték hivatkozására bármikor a programodban. Például kiírhatod az \"x\" változó értékét:\n",
        "\n",
        "`print(x)`\n",
        "\n",
        "Kimenet: `5`\n",
        "\n",
        "Egy változó értékét meg is lehet változtatni, úgy ahogy először is értéket adtunk neki.\n",
        " Mondjuk az x változónak adjunk új értéket az 5 helyett.\n",
        "\n",
        "`x = 20`\n",
        "\n",
        "Most már ha kiíratjuk az x változó értékét, akkor nem 5-öt fog mutatni. Ez azért van mert felülírtuk a meglévő értéket és újat raktunk bele. \n",
        "\n",
        "Úgy is eltudjuk képzelni, mintha a dobozunkban egyszerre csak e valami fér el, és ha új dolgot szeretnék belerakni, akkor az előzőt ki kell dobnunk.\n",
        "\n",
        "`print(x)`\n",
        "Kimenet: `20`"
      ],
      "metadata": {
        "id": "36g__mEszlrc"
      }
    },
    {
      "cell_type": "markdown",
      "source": [
        "# Adattípusok (data types) https://www.w3schools.com/python/python_datatypes.asp"
      ],
      "metadata": {
        "id": "O6o1hQ6N00if"
      }
    },
    {
      "cell_type": "markdown",
      "source": [
        "\n",
        "...\n",
        "\n",
        "**Egész számok (Integers)**\n",
        "\n",
        "**Tört számok (Decimals/Floats)**\n",
        "\n",
        "**Karakterláncok/\"szöveg típus\" (Strings)** https://www.w3schools.com/python/python_strings.asp\n",
        "\n",
        "**Bool-ok (Booleans)** https://www.w3schools.com/python/python_booleans.asp"
      ],
      "metadata": {
        "id": "w3pt9BMuz9Yi"
      }
    },
    {
      "cell_type": "markdown",
      "source": [
        "# Műveleti jelek (Operators) https://www.w3schools.com/python/python_operators.asp"
      ],
      "metadata": {
        "id": "vHuzfK700_SX"
      }
    },
    {
      "cell_type": "markdown",
      "source": [
        "# Ha-különben kifejezés (If-else statement) https://www.w3schools.com/python/python_conditions.asp"
      ],
      "metadata": {
        "id": "mjXg7vBG1N1T"
      }
    }
  ]
}